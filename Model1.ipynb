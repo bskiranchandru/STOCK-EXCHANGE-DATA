{
  "nbformat": 4,
  "nbformat_minor": 0,
  "metadata": {
    "colab": {
      "name": "Model1.ipynb",
      "provenance": []
    },
    "kernelspec": {
      "name": "python3",
      "display_name": "Python 3"
    },
    "language_info": {
      "name": "python"
    }
  },
  "cells": [
    {
      "cell_type": "code",
      "metadata": {
        "colab": {
          "base_uri": "https://localhost:8080/"
        },
        "id": "3FTQMeAiI9fr",
        "outputId": "49c484fa-7d46-4b5b-e8ef-d82d8ac6ecd4"
      },
      "source": [
        "pip install finta"
      ],
      "execution_count": null,
      "outputs": [
        {
          "output_type": "stream",
          "name": "stdout",
          "text": [
            "Collecting finta\n",
            "  Downloading finta-1.3-py3-none-any.whl (29 kB)\n",
            "Requirement already satisfied: pandas in /usr/local/lib/python3.7/dist-packages (from finta) (1.1.5)\n",
            "Requirement already satisfied: numpy in /usr/local/lib/python3.7/dist-packages (from finta) (1.19.5)\n",
            "Requirement already satisfied: python-dateutil>=2.7.3 in /usr/local/lib/python3.7/dist-packages (from pandas->finta) (2.8.2)\n",
            "Requirement already satisfied: pytz>=2017.2 in /usr/local/lib/python3.7/dist-packages (from pandas->finta) (2018.9)\n",
            "Requirement already satisfied: six>=1.5 in /usr/local/lib/python3.7/dist-packages (from python-dateutil>=2.7.3->pandas->finta) (1.15.0)\n",
            "Installing collected packages: finta\n",
            "Successfully installed finta-1.3\n"
          ]
        }
      ]
    },
    {
      "cell_type": "code",
      "metadata": {
        "id": "o4iDmJdjItSE"
      },
      "source": [
        "import datetime\n",
        "import pandas as pd\n",
        "import numpy as np\n",
        "from finta import TA\n",
        "import matplotlib.pyplot as plt\n",
        "\n",
        "from sklearn import svm\n",
        "from sklearn.ensemble import RandomForestClassifier\n",
        "from sklearn.neighbors import KNeighborsClassifier\n",
        "from sklearn.ensemble import AdaBoostClassifier\n",
        "from sklearn.ensemble import GradientBoostingClassifier\n",
        "from sklearn.ensemble import VotingClassifier\n",
        "from sklearn.model_selection import train_test_split, GridSearchCV\n",
        "from sklearn.metrics import confusion_matrix, classification_report , accuracy_score\n",
        "from sklearn import metrics\n",
        "from google.colab import drive"
      ],
      "execution_count": null,
      "outputs": []
    },
    {
      "cell_type": "code",
      "metadata": {
        "id": "ZdrFNI6DIwKj"
      },
      "source": [
        "\"\"\"\n",
        "Defining some constants for data mining\n",
        "\"\"\"\n",
        "\n",
        "NUM_DAYS = 10000     # The number of days of historical data to retrieve\n",
        "INTERVAL = '1d'     # Sample rate of historical data\n",
        "symbol = 'SPY'      # Symbol of the desired stock\n",
        "\n",
        "# List of symbols for technical indicators\n",
        "INDICATORS = ['RSI', 'MACD', 'STOCH','ADL', 'ATR', 'MOM', 'MFI', 'ROC', 'OBV', 'CCI', 'EMV', 'VORTEX']"
      ],
      "execution_count": null,
      "outputs": []
    },
    {
      "cell_type": "code",
      "metadata": {
        "colab": {
          "base_uri": "https://localhost:8080/"
        },
        "id": "6Jhqz61qJELL",
        "outputId": "e02595b1-50b8-4703-9665-824bb915b22e"
      },
      "source": [
        "drive.mount(\"/content/gdrive\")"
      ],
      "execution_count": null,
      "outputs": [
        {
          "output_type": "stream",
          "name": "stdout",
          "text": [
            "Mounted at /content/gdrive\n"
          ]
        }
      ]
    },
    {
      "cell_type": "code",
      "metadata": {
        "id": "y-TO-_LbJO4a"
      },
      "source": [
        "data = pd.read_csv('/content/gdrive/My Drive/indexProcessed1.csv')"
      ],
      "execution_count": null,
      "outputs": []
    },
    {
      "cell_type": "code",
      "metadata": {
        "colab": {
          "base_uri": "https://localhost:8080/",
          "height": 421
        },
        "id": "Z4ZruwziKEYr",
        "outputId": "9636a4c6-66ff-40f6-e4ba-e5824a797b1b"
      },
      "source": [
        "data.rename(columns={\"Close\": 'close', \"High\": 'high', \"Low\": 'low', 'Volume': 'volume', 'Open': 'open'}, inplace=True)\n",
        "print(data.head())\n",
        "\n",
        "tmp = data.iloc[-60:]\n",
        "tmp['close'].plot()"
      ],
      "execution_count": null,
      "outputs": [
        {
          "output_type": "stream",
          "name": "stdout",
          "text": [
            "         Date         open         high  ...        close    Adj Close  volume\n",
            "0  23-01-1995  7243.100098  7243.100098  ...  6967.899902  6967.899902       0\n",
            "1  24-01-1995  6970.600098  7035.799805  ...  7022.899902  7022.899902       0\n",
            "2  25-01-1995  7034.299805  7252.299805  ...  7240.700195  7240.700195       0\n",
            "3  26-01-1995  7275.299805  7371.799805  ...  7310.500000  7310.500000       0\n",
            "4  27-01-1995  7300.700195  7349.500000  ...  7297.100098  7297.100098       0\n",
            "\n",
            "[5 rows x 7 columns]\n"
          ]
        },
        {
          "output_type": "execute_result",
          "data": {
            "text/plain": [
              "<matplotlib.axes._subplots.AxesSubplot at 0x7f36b2053310>"
            ]
          },
          "metadata": {},
          "execution_count": 6
        },
        {
          "output_type": "display_data",
          "data": {
            "image/png": "[encoded data removed]",
            "text/plain": [
              "<Figure size 432x288 with 1 Axes>"
            ]
          },
          "metadata": {
            "needs_background": "light"
          }
        }
      ]
    },
    {
      "cell_type": "code",
      "metadata": {
        "colab": {
          "base_uri": "https://localhost:8080/",
          "height": 283
        },
        "id": "OlpctLb4KRGR",
        "outputId": "d1a27f74-138b-490d-fdd0-1c97998eb39c"
      },
      "source": [
        "def _exponential_smooth(data, alpha):\n",
        "    \"\"\"\n",
        "    Function that exponentially smooths dataset so values are less 'rigid'\n",
        "    :param alpha: weight factor to weight recent values more\n",
        "    \"\"\"\n",
        "    \n",
        "    return data.ewm(alpha=alpha).mean()\n",
        "\n",
        "data = _exponential_smooth(data, 0.65)\n",
        "\n",
        "tmp1 = data.iloc[-60:]\n",
        "tmp1['close'].plot()"
      ],
      "execution_count": null,
      "outputs": [
        {
          "output_type": "execute_result",
          "data": {
            "text/plain": [
              "<matplotlib.axes._subplots.AxesSubplot at 0x7f36b1fb9b10>"
            ]
          },
          "metadata": {},
          "execution_count": 7
        },
        {
          "output_type": "display_data",
          "data": {
            "image/png": "[encoded data removed]",
            "text/plain": [
              "<Figure size 432x288 with 1 Axes>"
            ]
          },
          "metadata": {
            "needs_background": "light"
          }
        }
      ]
    },
    {
      "cell_type": "code",
      "metadata": {
        "colab": {
          "base_uri": "https://localhost:8080/"
        },
        "id": "pK76Ut3MKXHL",
        "outputId": "8c4697c1-fa8d-4179-9d7b-038d461e8488"
      },
      "source": [
        "def _get_indicator_data(data):\n",
        "    \"\"\"\n",
        "    Function that uses the finta API to calculate technical indicators used as the features\n",
        "    :return:\n",
        "    \"\"\"\n",
        "\n",
        "    for indicator in INDICATORS:\n",
        "        ind_data = eval('TA.' + indicator + '(data)')\n",
        "        if not isinstance(ind_data, pd.DataFrame):\n",
        "            ind_data = ind_data.to_frame()\n",
        "        data = data.merge(ind_data, left_index=True, right_index=True)\n",
        "    data.rename(columns={\"14 period EMV.\": '14 period EMV'}, inplace=True)\n",
        "\n",
        "    # Also calculate moving averages for features\n",
        "    data['ema50'] = data['close'] / data['close'].ewm(50).mean()\n",
        "    data['ema21'] = data['close'] / data['close'].ewm(21).mean()\n",
        "    data['ema15'] = data['close'] / data['close'].ewm(14).mean()\n",
        "    data['ema5'] = data['close'] / data['close'].ewm(5).mean()\n",
        "\n",
        "    # Instead of using the actual volume value (which changes over time), we normalize it with a moving volume average\n",
        "    data['normVol'] = data['volume'] / data['volume'].ewm(5).mean()\n",
        "\n",
        "    # Remove columns that won't be used as features\n",
        "    del (data['open'])\n",
        "    del (data['high'])\n",
        "    del (data['low'])\n",
        "    del (data['volume'])\n",
        "    del (data['Adj Close'])\n",
        "    \n",
        "    return data\n",
        "\n",
        "data = _get_indicator_data(data)\n",
        "print(data.columns)"
      ],
      "execution_count": null,
      "outputs": [
        {
          "output_type": "stream",
          "name": "stdout",
          "text": [
            "Index(['close', '14 period RSI', 'MACD', 'SIGNAL', '14 period STOCH %K', 'MFV',\n",
            "       '14 period ATR', 'MOM', '14 period MFI', 'ROC', 'OBV', '20 period CCI',\n",
            "       '14 period EMV', 'VIm', 'VIp', 'ema50', 'ema21', 'ema15', 'ema5',\n",
            "       'normVol'],\n",
            "      dtype='object')\n"
          ]
        }
      ]
    },
    {
      "cell_type": "code",
      "metadata": {
        "id": "7U8wVWGQKbob"
      },
      "source": [
        "live_pred_data = data.iloc[-16:-11]"
      ],
      "execution_count": null,
      "outputs": []
    },
    {
      "cell_type": "code",
      "metadata": {
        "colab": {
          "base_uri": "https://localhost:8080/",
          "height": 261
        },
        "id": "27zPdH6aKixy",
        "outputId": "b90096c1-bf00-47bf-9b2c-bbe84d8d44da"
      },
      "source": [
        "def _produce_prediction(data, window):\n",
        "    \"\"\"\n",
        "    Function that produces the 'truth' values\n",
        "    At a given row, it looks 'window' rows ahead to see if the price increased (1) or decreased (0)\n",
        "    :param window: number of days, or rows to look ahead to see what the price did\n",
        "    \"\"\"\n",
        "    \n",
        "    prediction = (data.shift(-window)['close'] >= data['close'])\n",
        "    prediction = prediction.iloc[:-window]\n",
        "    data['pred'] = prediction.astype(int)\n",
        "    \n",
        "    return data\n",
        "\n",
        "data = _produce_prediction(data, window=15)\n",
        "del (data['close'])\n",
        "data = data.dropna() # Some indicators produce NaN values for the first few rows, we just remove them here\n",
        "data.tail()"
      ],
      "execution_count": null,
      "outputs": [
        {
          "output_type": "execute_result",
          "data": {
            "text/html": [
              "<div>\n",
              "<style scoped>\n",
              "    .dataframe tbody tr th:only-of-type {\n",
              "        vertical-align: middle;\n",
              "    }\n",
              "\n",
              "    .dataframe tbody tr th {\n",
              "        vertical-align: top;\n",
              "    }\n",
              "\n",
              "    .dataframe thead th {\n",
              "        text-align: right;\n",
              "    }\n",
              "</style>\n",
              "<table border=\"1\" class=\"dataframe\">\n",
              "  <thead>\n",
              "    <tr style=\"text-align: right;\">\n",
              "      <th></th>\n",
              "      <th>14 period RSI</th>\n",
              "      <th>MACD</th>\n",
              "      <th>SIGNAL</th>\n",
              "      <th>14 period STOCH %K</th>\n",
              "      <th>MFV</th>\n",
              "      <th>14 period ATR</th>\n",
              "      <th>MOM</th>\n",
              "      <th>14 period MFI</th>\n",
              "      <th>ROC</th>\n",
              "      <th>OBV</th>\n",
              "      <th>20 period CCI</th>\n",
              "      <th>14 period EMV</th>\n",
              "      <th>VIm</th>\n",
              "      <th>VIp</th>\n",
              "      <th>ema50</th>\n",
              "      <th>ema21</th>\n",
              "      <th>ema15</th>\n",
              "      <th>ema5</th>\n",
              "      <th>normVol</th>\n",
              "      <th>pred</th>\n",
              "    </tr>\n",
              "  </thead>\n",
              "  <tbody>\n",
              "    <tr>\n",
              "      <th>1981</th>\n",
              "      <td>27.721610</td>\n",
              "      <td>-104.491209</td>\n",
              "      <td>-64.845034</td>\n",
              "      <td>9.098600</td>\n",
              "      <td>7.684424e+09</td>\n",
              "      <td>106.034080</td>\n",
              "      <td>-415.181000</td>\n",
              "      <td>28.469218</td>\n",
              "      <td>-5.978234</td>\n",
              "      <td>-5.942742e+09</td>\n",
              "      <td>-141.554136</td>\n",
              "      <td>-19.887325</td>\n",
              "      <td>1.217436</td>\n",
              "      <td>0.602702</td>\n",
              "      <td>0.949426</td>\n",
              "      <td>0.964473</td>\n",
              "      <td>0.969117</td>\n",
              "      <td>0.982544</td>\n",
              "      <td>0.923227</td>\n",
              "      <td>0.0</td>\n",
              "    </tr>\n",
              "    <tr>\n",
              "      <th>1982</th>\n",
              "      <td>25.728408</td>\n",
              "      <td>-114.810235</td>\n",
              "      <td>-74.838074</td>\n",
              "      <td>4.917285</td>\n",
              "      <td>7.644022e+09</td>\n",
              "      <td>107.556081</td>\n",
              "      <td>-386.820722</td>\n",
              "      <td>21.335689</td>\n",
              "      <td>-5.847209</td>\n",
              "      <td>-6.099555e+09</td>\n",
              "      <td>-134.589447</td>\n",
              "      <td>-22.514413</td>\n",
              "      <td>1.263692</td>\n",
              "      <td>0.561418</td>\n",
              "      <td>0.945358</td>\n",
              "      <td>0.961071</td>\n",
              "      <td>0.966236</td>\n",
              "      <td>0.980983</td>\n",
              "      <td>0.931518</td>\n",
              "      <td>0.0</td>\n",
              "    </tr>\n",
              "    <tr>\n",
              "      <th>1983</th>\n",
              "      <td>23.776746</td>\n",
              "      <td>-125.791428</td>\n",
              "      <td>-85.028745</td>\n",
              "      <td>4.505757</td>\n",
              "      <td>7.592468e+09</td>\n",
              "      <td>108.303695</td>\n",
              "      <td>-422.894821</td>\n",
              "      <td>12.905793</td>\n",
              "      <td>-5.351614</td>\n",
              "      <td>-6.278935e+09</td>\n",
              "      <td>-130.446521</td>\n",
              "      <td>-25.405575</td>\n",
              "      <td>1.323195</td>\n",
              "      <td>0.510272</td>\n",
              "      <td>0.941054</td>\n",
              "      <td>0.957503</td>\n",
              "      <td>0.963228</td>\n",
              "      <td>0.979388</td>\n",
              "      <td>1.054051</td>\n",
              "      <td>0.0</td>\n",
              "    </tr>\n",
              "    <tr>\n",
              "      <th>1984</th>\n",
              "      <td>23.691234</td>\n",
              "      <td>-133.147194</td>\n",
              "      <td>-94.652435</td>\n",
              "      <td>9.137116</td>\n",
              "      <td>7.652264e+09</td>\n",
              "      <td>107.932078</td>\n",
              "      <td>-414.084086</td>\n",
              "      <td>13.146066</td>\n",
              "      <td>-4.605563</td>\n",
              "      <td>-6.441330e+09</td>\n",
              "      <td>-118.857659</td>\n",
              "      <td>-25.490215</td>\n",
              "      <td>1.328780</td>\n",
              "      <td>0.518058</td>\n",
              "      <td>0.941908</td>\n",
              "      <td>0.959122</td>\n",
              "      <td>0.965365</td>\n",
              "      <td>0.982555</td>\n",
              "      <td>0.961585</td>\n",
              "      <td>0.0</td>\n",
              "    </tr>\n",
              "    <tr>\n",
              "      <th>1985</th>\n",
              "      <td>29.760407</td>\n",
              "      <td>-133.248114</td>\n",
              "      <td>-102.371571</td>\n",
              "      <td>20.984613</td>\n",
              "      <td>7.772411e+09</td>\n",
              "      <td>105.690419</td>\n",
              "      <td>-374.093786</td>\n",
              "      <td>19.717515</td>\n",
              "      <td>-3.897349</td>\n",
              "      <td>-6.289834e+09</td>\n",
              "      <td>-93.652455</td>\n",
              "      <td>-20.078668</td>\n",
              "      <td>1.271955</td>\n",
              "      <td>0.598556</td>\n",
              "      <td>0.948236</td>\n",
              "      <td>0.966124</td>\n",
              "      <td>0.972736</td>\n",
              "      <td>0.990091</td>\n",
              "      <td>0.912710</td>\n",
              "      <td>1.0</td>\n",
              "    </tr>\n",
              "  </tbody>\n",
              "</table>\n",
              "</div>"
            ],
            "text/plain": [
              "      14 period RSI        MACD      SIGNAL  ...      ema5   normVol  pred\n",
              "1981      27.721610 -104.491209  -64.845034  ...  0.982544  0.923227   0.0\n",
              "1982      25.728408 -114.810235  -74.838074  ...  0.980983  0.931518   0.0\n",
              "1983      23.776746 -125.791428  -85.028745  ...  0.979388  1.054051   0.0\n",
              "1984      23.691234 -133.147194  -94.652435  ...  0.982555  0.961585   0.0\n",
              "1985      29.760407 -133.248114 -102.371571  ...  0.990091  0.912710   1.0\n",
              "\n",
              "[5 rows x 20 columns]"
            ]
          },
          "metadata": {},
          "execution_count": 10
        }
      ]
    },
    {
      "cell_type": "code",
      "metadata": {
        "id": "5aeBvN9LKo_m"
      },
      "source": [
        "def _train_random_forest(X_train, y_train, X_test, y_test):\n",
        "\n",
        "    \"\"\"\n",
        "    Function that uses random forest classifier to train the model\n",
        "    :return:\n",
        "    \"\"\"\n",
        "    \n",
        "    # Create a new random forest classifier\n",
        "    rf = RandomForestClassifier()\n",
        "    \n",
        "    # Dictionary of all values we want to test for n_estimators\n",
        "    params_rf = {'n_estimators': [110,130,140,150,160,180,200]}\n",
        "    \n",
        "    # Use gridsearch to test all values for n_estimators\n",
        "    rf_gs = GridSearchCV(rf, params_rf, cv=5)\n",
        "    \n",
        "    # Fit model to training data\n",
        "    rf_gs.fit(X_train, y_train)\n",
        "    \n",
        "    # Save best model\n",
        "    rf_best = rf_gs.best_estimator_\n",
        "    \n",
        "    # Check best n_estimators value\n",
        "    print(rf_gs.best_params_)\n",
        "    \n",
        "    prediction = rf_best.predict(X_test)\n",
        "\n",
        "    print(classification_report(y_test, prediction))\n",
        "    print(confusion_matrix(y_test, prediction))\n",
        "    \n",
        "    return rf_best\n",
        "    "
      ],
      "execution_count": null,
      "outputs": []
    },
    {
      "cell_type": "code",
      "metadata": {
        "id": "PeNMsa-bKukY"
      },
      "source": [
        "def _train_KNN(X_train, y_train, X_test, y_test):\n",
        "\n",
        "    knn = KNeighborsClassifier()\n",
        "    # Create a dictionary of all values we want to test for n_neighbors\n",
        "    params_knn = {'n_neighbors': np.arange(1, 25)}\n",
        "    \n",
        "    # Use gridsearch to test all values for n_neighbors\n",
        "    knn_gs = GridSearchCV(knn, params_knn, cv=5)\n",
        "    \n",
        "    # Fit model to training data\n",
        "    knn_gs.fit(X_train, y_train)\n",
        "    \n",
        "    # Save best model\n",
        "    knn_best = knn_gs.best_estimator_\n",
        "     \n",
        "    # Check best n_neigbors value\n",
        "    print(knn_gs.best_params_)\n",
        "    \n",
        "    prediction = knn_best.predict(X_test)\n",
        "\n",
        "    print(classification_report(y_test, prediction))\n",
        "    print(confusion_matrix(y_test, prediction))\n",
        "    \n",
        "    return knn_best\n",
        "    \n",
        "    "
      ],
      "execution_count": null,
      "outputs": []
    },
    {
      "cell_type": "code",
      "metadata": {
        "id": "1U9FjMcaLYr4"
      },
      "source": [
        "def _ensemble_model(rf_model, knn_model, X_train, y_train, X_test, y_test):\n",
        "    \n",
        "    # Create a dictionary of our models\n",
        "    estimators=[('knn', knn_model), ('rf', rf_model)]\n",
        "    \n",
        "    # Create our voting classifier, inputting our models\n",
        "    ensemble = VotingClassifier(estimators, voting='hard')\n",
        "    \n",
        "    #fit model to training data\n",
        "    ensemble.fit(X_train, y_train)\n",
        "    \n",
        "    #test our model on the test data\n",
        "    print(ensemble.score(X_test, y_test))\n",
        "    \n",
        "    prediction = ensemble.predict(X_test)\n",
        "\n",
        "    print(classification_report(y_test, prediction))\n",
        "    print(confusion_matrix(y_test, prediction))\n",
        "    \n",
        "    return ensemble\n",
        "    \n"
      ],
      "execution_count": null,
      "outputs": []
    },
    {
      "cell_type": "code",
      "metadata": {
        "id": "ReBc-pebLeWq"
      },
      "source": [
        "def cross_Validation(data):\n",
        "\n",
        "    # Split data into equal partitions of size len_train\n",
        "    \n",
        "    num_train = 10 # Increment of how many starting points (len(data) / num_train  =  number of train-test sets)\n",
        "    len_train = 40 # Length of each train-test set\n",
        "    \n",
        "    # Lists to store the results from each model\n",
        "    rf_RESULTS = []\n",
        "    knn_RESULTS = []\n",
        "    ensemble_RESULTS = []\n",
        "    \n",
        "    i = 0\n",
        "    while True:\n",
        "        \n",
        "        # Partition the data into chunks of size len_train every num_train days\n",
        "        df = data.iloc[i * num_train : (i * num_train) + len_train]\n",
        "        i += 1\n",
        "        print(i * num_train, (i * num_train) + len_train)\n",
        "        \n",
        "        if len(df) < 40:\n",
        "            break"
      ],
      "execution_count": null,
      "outputs": []
    },
    {
      "cell_type": "code",
      "metadata": {
        "id": "EL3ulWq_Llfe"
      },
      "source": [
        "def cross_Validation(data):\n",
        "\n",
        "    # Split data into equal partitions of size len_train\n",
        "    \n",
        "    num_train = 10 # Increment of how many starting points (len(data) / num_train  =  number of train-test sets)\n",
        "    len_train = 40 # Length of each train-test set\n",
        "    \n",
        "    # Lists to store the results from each model\n",
        "    rf_RESULTS = []\n",
        "    knn_RESULTS = []\n",
        "    ensemble_RESULTS = []\n",
        "    \n",
        "    i = 0\n",
        "    while True:\n",
        "        \n",
        "        # Partition the data into chunks of size len_train every num_train days\n",
        "        df = data.iloc[i * num_train : (i * num_train) + len_train]\n",
        "        i += 1\n",
        "        print(i * num_train, (i * num_train) + len_train)\n",
        "        \n",
        "        if len(df) < 40:\n",
        "            break\n",
        "        \n",
        "        y = df['pred']\n",
        "        features = [x for x in df.columns if x not in ['pred']]\n",
        "        X = df[features]\n",
        "\n",
        "        X_train, X_test, y_train, y_test = train_test_split(X, y, train_size= 7 * len(X) // 10,shuffle=False)\n"
      ],
      "execution_count": null,
      "outputs": []
    },
    {
      "cell_type": "code",
      "metadata": {
        "colab": {
          "base_uri": "https://localhost:8080/"
        },
        "id": "j73DoE39Lsyb",
        "outputId": "e278721a-f6b2-4f22-be94-db971da7db8a"
      },
      "source": [
        "def cross_Validation(data):\n",
        "\n",
        "    # Split data into equal partitions of size len_train\n",
        "    \n",
        "    num_train = 100 # Increment of how many starting points (len(data) / num_train  =  number of train-test sets)\n",
        "    len_train = 400 # Length of each train-test set\n",
        "    \n",
        "    # Lists to store the results from each model\n",
        "    rf_RESULTS = []\n",
        "    knn_RESULTS = []\n",
        "    ensemble_RESULTS = []\n",
        "    \n",
        "    i = 0\n",
        "    while True:\n",
        "        \n",
        "        # Partition the data into chunks of size len_train every num_train days\n",
        "        df = data.iloc[i * num_train : (i * num_train) + len_train]\n",
        "        i += 1\n",
        "        #print(i * num_train, (i * num_train) + len_train)\n",
        "        \n",
        "        if len(df) < 40:\n",
        "            break\n",
        "        \n",
        "        y = df['pred']\n",
        "        features = [x for x in df.columns if x not in ['pred']]\n",
        "        X = df[features]\n",
        "\n",
        "        X_train, X_test, y_train, y_test = train_test_split(X, y, train_size= 7 * len(X) // 10,shuffle=False)\n",
        "        \n",
        "        rf_model = _train_random_forest(X_train, y_train, X_test, y_test)\n",
        "        knn_model = _train_KNN(X_train, y_train, X_test, y_test)\n",
        "        ensemble_model = _ensemble_model(rf_model, knn_model, X_train, y_train, X_test, y_test)\n",
        "        \n",
        "        rf_prediction = rf_model.predict(X_test)\n",
        "        knn_prediction = knn_model.predict(X_test)\n",
        "        ensemble_prediction = ensemble_model.predict(X_test)\n",
        "        \n",
        "        print('rf prediction is ', rf_prediction)\n",
        "        print('knn prediction is ', knn_prediction)\n",
        "        print('ensemble prediction is ', ensemble_prediction)\n",
        "        print('truth values are ', y_test.values)\n",
        "        \n",
        "        rf_accuracy = accuracy_score(y_test.values, rf_prediction)\n",
        "        knn_accuracy = accuracy_score(y_test.values, knn_prediction)\n",
        "        ensemble_accuracy = accuracy_score(y_test.values, ensemble_prediction)\n",
        "        \n",
        "        print(rf_accuracy, knn_accuracy, ensemble_accuracy)\n",
        "        rf_RESULTS.append(rf_accuracy)\n",
        "        knn_RESULTS.append(knn_accuracy)\n",
        "        ensemble_RESULTS.append(ensemble_accuracy)\n",
        "        \n",
        "        \n",
        "    print('RF Accuracy = ' + str( sum(rf_RESULTS) / len(rf_RESULTS)))\n",
        "    print('KNN Accuracy = ' + str( sum(knn_RESULTS) / len(knn_RESULTS)))\n",
        "    print('Ensemble Accuracy = ' + str( sum(ensemble_RESULTS) / len(ensemble_RESULTS)))\n",
        "    \n",
        "    \n",
        "cross_Validation(data)"
      ],
      "execution_count": null,
      "outputs": [
        {
          "output_type": "stream",
          "name": "stdout",
          "text": [
            "{'n_estimators': 110}\n",
            "              precision    recall  f1-score   support\n",
            "\n",
            "         0.0       0.57      0.97      0.72        65\n",
            "         1.0       0.50      0.04      0.07        50\n",
            "\n",
            "    accuracy                           0.57       115\n",
            "   macro avg       0.53      0.50      0.39       115\n",
            "weighted avg       0.54      0.57      0.44       115\n",
            "\n",
            "[[63  2]\n",
            " [48  2]]\n",
            "{'n_neighbors': 9}\n",
            "              precision    recall  f1-score   support\n",
            "\n",
            "         0.0       1.00      0.28      0.43        65\n",
            "         1.0       0.52      1.00      0.68        50\n",
            "\n",
            "    accuracy                           0.59       115\n",
            "   macro avg       0.76      0.64      0.56       115\n",
            "weighted avg       0.79      0.59      0.54       115\n",
            "\n",
            "[[18 47]\n",
            " [ 0 50]]\n",
            "0.6434782608695652\n",
            "              precision    recall  f1-score   support\n",
            "\n",
            "         0.0       0.61      1.00      0.76        65\n",
            "         1.0       1.00      0.18      0.31        50\n",
            "\n",
            "    accuracy                           0.64       115\n",
            "   macro avg       0.81      0.59      0.53       115\n",
            "weighted avg       0.78      0.64      0.56       115\n",
            "\n",
            "[[65  0]\n",
            " [41  9]]\n",
            "rf prediction is  [0. 0. 0. 0. 0. 0. 0. 0. 0. 0. 0. 0. 0. 0. 0. 0. 0. 0. 0. 0. 0. 0. 0. 0.\n",
            " 0. 0. 0. 0. 1. 0. 0. 0. 0. 0. 0. 0. 0. 0. 0. 0. 0. 0. 0. 0. 1. 0. 0. 0.\n",
            " 0. 0. 0. 0. 0. 0. 0. 0. 0. 0. 0. 0. 0. 0. 0. 0. 0. 0. 0. 0. 0. 1. 1. 0.\n",
            " 0. 0. 0. 0. 0. 0. 0. 0. 0. 0. 0. 0. 0. 0. 0. 0. 0. 0. 0. 0. 0. 0. 0. 0.\n",
            " 0. 0. 0. 0. 0. 0. 0. 0. 0. 0. 0. 0. 0. 0. 0. 0. 0. 0. 0.]\n",
            "knn prediction is  [0. 0. 0. 0. 0. 1. 1. 1. 1. 1. 1. 1. 1. 1. 1. 1. 1. 1. 1. 1. 1. 1. 1. 1.\n",
            " 1. 1. 1. 1. 1. 1. 1. 1. 1. 1. 1. 1. 1. 1. 1. 1. 1. 1. 1. 1. 1. 1. 1. 1.\n",
            " 1. 1. 1. 1. 1. 1. 1. 1. 1. 1. 1. 1. 1. 0. 0. 0. 0. 0. 0. 0. 0. 0. 0. 0.\n",
            " 0. 0. 1. 1. 1. 1. 1. 1. 1. 1. 1. 1. 1. 1. 1. 1. 1. 1. 1. 1. 1. 1. 1. 1.\n",
            " 1. 1. 1. 1. 1. 1. 1. 1. 1. 1. 1. 1. 1. 1. 1. 1. 1. 1. 1.]\n",
            "ensemble prediction is  [0. 0. 0. 0. 0. 0. 0. 0. 0. 0. 0. 0. 0. 0. 0. 0. 0. 0. 0. 0. 0. 0. 1. 1.\n",
            " 0. 0. 1. 1. 1. 1. 1. 1. 0. 1. 0. 0. 0. 0. 0. 0. 0. 0. 0. 0. 0. 0. 0. 0.\n",
            " 0. 0. 0. 0. 0. 0. 0. 0. 0. 0. 0. 0. 0. 0. 0. 0. 0. 0. 0. 0. 0. 0. 0. 0.\n",
            " 0. 0. 0. 0. 0. 0. 0. 0. 0. 0. 0. 0. 0. 0. 0. 0. 0. 0. 0. 0. 0. 0. 0. 0.\n",
            " 0. 0. 0. 0. 0. 0. 0. 0. 0. 0. 0. 0. 0. 0. 0. 0. 0. 0. 0.]\n",
            "truth values are  [0. 0. 0. 0. 0. 0. 0. 0. 0. 0. 0. 0. 0. 0. 0. 0. 0. 0. 0. 0. 0. 1. 1. 1.\n",
            " 1. 1. 1. 1. 1. 1. 1. 1. 1. 1. 1. 1. 1. 1. 1. 1. 1. 0. 0. 1. 1. 1. 1. 1.\n",
            " 1. 1. 1. 1. 1. 1. 1. 1. 1. 1. 1. 1. 0. 0. 0. 0. 0. 0. 0. 0. 0. 0. 0. 0.\n",
            " 0. 0. 0. 0. 0. 0. 0. 0. 0. 1. 1. 1. 1. 1. 1. 1. 1. 1. 0. 0. 0. 0. 0. 0.\n",
            " 0. 0. 0. 0. 0. 0. 0. 0. 0. 0. 1. 1. 1. 0. 0. 0. 0. 0. 1.]\n",
            "0.5652173913043478 0.591304347826087 0.6434782608695652\n",
            "{'n_estimators': 180}\n",
            "              precision    recall  f1-score   support\n",
            "\n",
            "         0.0       0.56      1.00      0.72        44\n",
            "         1.0       1.00      0.15      0.26        41\n",
            "\n",
            "    accuracy                           0.59        85\n",
            "   macro avg       0.78      0.57      0.49        85\n",
            "weighted avg       0.77      0.59      0.49        85\n",
            "\n",
            "[[44  0]\n",
            " [35  6]]\n",
            "{'n_neighbors': 21}\n",
            "              precision    recall  f1-score   support\n",
            "\n",
            "         0.0       0.52      1.00      0.68        44\n",
            "         1.0       0.00      0.00      0.00        41\n",
            "\n",
            "    accuracy                           0.52        85\n",
            "   macro avg       0.26      0.50      0.34        85\n",
            "weighted avg       0.27      0.52      0.35        85\n",
            "\n",
            "[[44  0]\n",
            " [41  0]]\n"
          ]
        },
        {
          "output_type": "stream",
          "name": "stderr",
          "text": [
            "/usr/local/lib/python3.7/dist-packages/sklearn/metrics/_classification.py:1308: UndefinedMetricWarning: Precision and F-score are ill-defined and being set to 0.0 in labels with no predicted samples. Use `zero_division` parameter to control this behavior.\n",
            "  _warn_prf(average, modifier, msg_start, len(result))\n",
            "/usr/local/lib/python3.7/dist-packages/sklearn/metrics/_classification.py:1308: UndefinedMetricWarning: Precision and F-score are ill-defined and being set to 0.0 in labels with no predicted samples. Use `zero_division` parameter to control this behavior.\n",
            "  _warn_prf(average, modifier, msg_start, len(result))\n",
            "/usr/local/lib/python3.7/dist-packages/sklearn/metrics/_classification.py:1308: UndefinedMetricWarning: Precision and F-score are ill-defined and being set to 0.0 in labels with no predicted samples. Use `zero_division` parameter to control this behavior.\n",
            "  _warn_prf(average, modifier, msg_start, len(result))\n"
          ]
        },
        {
          "output_type": "stream",
          "name": "stdout",
          "text": [
            "0.5176470588235295\n",
            "              precision    recall  f1-score   support\n",
            "\n",
            "         0.0       0.52      1.00      0.68        44\n",
            "         1.0       0.00      0.00      0.00        41\n",
            "\n",
            "    accuracy                           0.52        85\n",
            "   macro avg       0.26      0.50      0.34        85\n",
            "weighted avg       0.27      0.52      0.35        85\n",
            "\n",
            "[[44  0]\n",
            " [41  0]]\n",
            "rf prediction is  [1. 1. 1. 1. 1. 1. 0. 0. 0. 0. 0. 0. 0. 0. 0. 0. 0. 0. 0. 0. 0. 0. 0. 0.\n",
            " 0. 0. 0. 0. 0. 0. 0. 0. 0. 0. 0. 0. 0. 0. 0. 0. 0. 0. 0. 0. 0. 0. 0. 0.\n",
            " 0. 0. 0. 0. 0. 0. 0. 0. 0. 0. 0. 0. 0. 0. 0. 0. 0. 0. 0. 0. 0. 0. 0. 0.\n",
            " 0. 0. 0. 0. 0. 0. 0. 0. 0. 0. 0. 0. 0.]\n",
            "knn prediction is  [0. 0. 0. 0. 0. 0. 0. 0. 0. 0. 0. 0. 0. 0. 0. 0. 0. 0. 0. 0. 0. 0. 0. 0.\n",
            " 0. 0. 0. 0. 0. 0. 0. 0. 0. 0. 0. 0. 0. 0. 0. 0. 0. 0. 0. 0. 0. 0. 0. 0.\n",
            " 0. 0. 0. 0. 0. 0. 0. 0. 0. 0. 0. 0. 0. 0. 0. 0. 0. 0. 0. 0. 0. 0. 0. 0.\n",
            " 0. 0. 0. 0. 0. 0. 0. 0. 0. 0. 0. 0. 0.]\n",
            "ensemble prediction is  [0. 0. 0. 0. 0. 0. 0. 0. 0. 0. 0. 0. 0. 0. 0. 0. 0. 0. 0. 0. 0. 0. 0. 0.\n",
            " 0. 0. 0. 0. 0. 0. 0. 0. 0. 0. 0. 0. 0. 0. 0. 0. 0. 0. 0. 0. 0. 0. 0. 0.\n",
            " 0. 0. 0. 0. 0. 0. 0. 0. 0. 0. 0. 0. 0. 0. 0. 0. 0. 0. 0. 0. 0. 0. 0. 0.\n",
            " 0. 0. 0. 0. 0. 0. 0. 0. 0. 0. 0. 0. 0.]\n",
            "truth values are  [1. 1. 1. 1. 1. 1. 1. 1. 1. 1. 1. 0. 0. 1. 1. 1. 1. 1. 1. 1. 1. 1. 1. 1.\n",
            " 1. 1. 1. 1. 1. 1. 0. 0. 0. 0. 0. 0. 0. 0. 0. 0. 0. 0. 0. 0. 0. 0. 0. 0.\n",
            " 0. 0. 0. 1. 1. 1. 1. 1. 1. 1. 1. 1. 0. 0. 0. 0. 0. 0. 0. 0. 0. 0. 0. 0.\n",
            " 0. 0. 0. 0. 1. 1. 1. 0. 0. 0. 0. 0. 1.]\n",
            "0.5882352941176471 0.5176470588235295 0.5176470588235295\n"
          ]
        },
        {
          "output_type": "stream",
          "name": "stderr",
          "text": [
            "/usr/local/lib/python3.7/dist-packages/sklearn/metrics/_classification.py:1308: UndefinedMetricWarning: Precision and F-score are ill-defined and being set to 0.0 in labels with no predicted samples. Use `zero_division` parameter to control this behavior.\n",
            "  _warn_prf(average, modifier, msg_start, len(result))\n",
            "/usr/local/lib/python3.7/dist-packages/sklearn/metrics/_classification.py:1308: UndefinedMetricWarning: Precision and F-score are ill-defined and being set to 0.0 in labels with no predicted samples. Use `zero_division` parameter to control this behavior.\n",
            "  _warn_prf(average, modifier, msg_start, len(result))\n",
            "/usr/local/lib/python3.7/dist-packages/sklearn/metrics/_classification.py:1308: UndefinedMetricWarning: Precision and F-score are ill-defined and being set to 0.0 in labels with no predicted samples. Use `zero_division` parameter to control this behavior.\n",
            "  _warn_prf(average, modifier, msg_start, len(result))\n"
          ]
        },
        {
          "output_type": "stream",
          "name": "stdout",
          "text": [
            "{'n_estimators': 110}\n",
            "              precision    recall  f1-score   support\n",
            "\n",
            "         0.0       0.52      0.31      0.39        42\n",
            "         1.0       0.03      0.08      0.05        13\n",
            "\n",
            "    accuracy                           0.25        55\n",
            "   macro avg       0.28      0.19      0.22        55\n",
            "weighted avg       0.40      0.25      0.31        55\n",
            "\n",
            "[[13 29]\n",
            " [12  1]]\n",
            "{'n_neighbors': 2}\n",
            "              precision    recall  f1-score   support\n",
            "\n",
            "         0.0       0.00      0.00      0.00        42\n",
            "         1.0       0.24      1.00      0.38        13\n",
            "\n",
            "    accuracy                           0.24        55\n",
            "   macro avg       0.12      0.50      0.19        55\n",
            "weighted avg       0.06      0.24      0.09        55\n",
            "\n",
            "[[ 0 42]\n",
            " [ 0 13]]\n",
            "0.3090909090909091\n"
          ]
        },
        {
          "output_type": "stream",
          "name": "stderr",
          "text": [
            "/usr/local/lib/python3.7/dist-packages/sklearn/metrics/_classification.py:1308: UndefinedMetricWarning: Precision and F-score are ill-defined and being set to 0.0 in labels with no predicted samples. Use `zero_division` parameter to control this behavior.\n",
            "  _warn_prf(average, modifier, msg_start, len(result))\n",
            "/usr/local/lib/python3.7/dist-packages/sklearn/metrics/_classification.py:1308: UndefinedMetricWarning: Precision and F-score are ill-defined and being set to 0.0 in labels with no predicted samples. Use `zero_division` parameter to control this behavior.\n",
            "  _warn_prf(average, modifier, msg_start, len(result))\n",
            "/usr/local/lib/python3.7/dist-packages/sklearn/metrics/_classification.py:1308: UndefinedMetricWarning: Precision and F-score are ill-defined and being set to 0.0 in labels with no predicted samples. Use `zero_division` parameter to control this behavior.\n",
            "  _warn_prf(average, modifier, msg_start, len(result))\n"
          ]
        },
        {
          "output_type": "stream",
          "name": "stdout",
          "text": [
            "              precision    recall  f1-score   support\n",
            "\n",
            "         0.0       0.57      0.38      0.46        42\n",
            "         1.0       0.04      0.08      0.05        13\n",
            "\n",
            "    accuracy                           0.31        55\n",
            "   macro avg       0.30      0.23      0.25        55\n",
            "weighted avg       0.45      0.31      0.36        55\n",
            "\n",
            "[[16 26]\n",
            " [12  1]]\n",
            "rf prediction is  [1. 1. 1. 0. 0. 1. 1. 0. 0. 0. 0. 0. 0. 1. 1. 1. 1. 1. 1. 1. 1. 0. 0. 0.\n",
            " 0. 0. 0. 0. 0. 0. 1. 1. 1. 1. 1. 1. 1. 1. 1. 1. 1. 1. 1. 1. 1. 1. 1. 0.\n",
            " 0. 0. 0. 0. 0. 0. 0.]\n",
            "knn prediction is  [1. 1. 1. 1. 1. 1. 1. 1. 1. 1. 1. 1. 1. 1. 1. 1. 1. 1. 1. 1. 1. 1. 1. 1.\n",
            " 1. 1. 1. 1. 1. 1. 1. 1. 1. 1. 1. 1. 1. 1. 1. 1. 1. 1. 1. 1. 1. 1. 1. 1.\n",
            " 1. 1. 1. 1. 1. 1. 1.]\n",
            "ensemble prediction is  [1. 1. 0. 0. 0. 0. 1. 0. 0. 0. 0. 0. 0. 1. 1. 1. 1. 1. 1. 1. 0. 0. 0. 0.\n",
            " 0. 0. 0. 0. 0. 0. 1. 1. 1. 1. 1. 1. 1. 1. 1. 1. 1. 1. 1. 1. 1. 1. 1. 0.\n",
            " 0. 0. 0. 0. 0. 0. 0.]\n",
            "truth values are  [0. 0. 0. 0. 0. 0. 0. 0. 0. 0. 0. 0. 0. 0. 0. 0. 0. 0. 0. 0. 0. 1. 1. 1.\n",
            " 1. 1. 1. 1. 1. 1. 0. 0. 0. 0. 0. 0. 0. 0. 0. 0. 0. 0. 0. 0. 0. 0. 1. 1.\n",
            " 1. 0. 0. 0. 0. 0. 1.]\n",
            "0.2545454545454545 0.23636363636363636 0.3090909090909091\n",
            "{'n_estimators': 110}\n",
            "              precision    recall  f1-score   support\n",
            "\n",
            "         0.0       1.00      0.05      0.09        21\n",
            "         1.0       0.17      1.00      0.29         4\n",
            "\n",
            "    accuracy                           0.20        25\n",
            "   macro avg       0.58      0.52      0.19        25\n",
            "weighted avg       0.87      0.20      0.12        25\n",
            "\n",
            "[[ 1 20]\n",
            " [ 0  4]]\n",
            "{'n_neighbors': 11}\n",
            "              precision    recall  f1-score   support\n",
            "\n",
            "         0.0       1.00      0.57      0.73        21\n",
            "         1.0       0.31      1.00      0.47         4\n",
            "\n",
            "    accuracy                           0.64        25\n",
            "   macro avg       0.65      0.79      0.60        25\n",
            "weighted avg       0.89      0.64      0.69        25\n",
            "\n",
            "[[12  9]\n",
            " [ 0  4]]\n",
            "0.64\n",
            "              precision    recall  f1-score   support\n",
            "\n",
            "         0.0       1.00      0.57      0.73        21\n",
            "         1.0       0.31      1.00      0.47         4\n",
            "\n",
            "    accuracy                           0.64        25\n",
            "   macro avg       0.65      0.79      0.60        25\n",
            "weighted avg       0.89      0.64      0.69        25\n",
            "\n",
            "[[12  9]\n",
            " [ 0  4]]\n",
            "rf prediction is  [1. 1. 1. 1. 1. 1. 1. 1. 0. 1. 1. 1. 1. 1. 1. 1. 1. 1. 1. 1. 1. 1. 1. 1.\n",
            " 1.]\n",
            "knn prediction is  [1. 1. 1. 1. 0. 0. 0. 0. 0. 0. 0. 0. 0. 0. 0. 0. 1. 1. 1. 1. 1. 1. 1. 1.\n",
            " 1.]\n",
            "ensemble prediction is  [1. 1. 1. 1. 0. 0. 0. 0. 0. 0. 0. 0. 0. 0. 0. 0. 1. 1. 1. 1. 1. 1. 1. 1.\n",
            " 1.]\n",
            "truth values are  [0. 0. 0. 0. 0. 0. 0. 0. 0. 0. 0. 0. 0. 0. 0. 0. 1. 1. 1. 0. 0. 0. 0. 0.\n",
            " 1.]\n",
            "0.2 0.64 0.64\n",
            "RF Accuracy = 0.4019995349918623\n",
            "KNN Accuracy = 0.4963287607533132\n",
            "Ensemble Accuracy = 0.5275540571960009\n"
          ]
        }
      ]
    },
    {
      "cell_type": "code",
      "metadata": {
        "id": "qs55VUSkXlkr"
      },
      "source": [
        ""
      ],
      "execution_count": null,
      "outputs": []
    },
    {
      "cell_type": "code",
      "metadata": {
        "colab": {
          "base_uri": "https://localhost:8080/",
          "height": 261
        },
        "id": "6gL_p2widNuJ",
        "outputId": "97819824-f8bd-4944-dda2-0e96186f8b34"
      },
      "source": [
        "live_pred_data.head()"
      ],
      "execution_count": null,
      "outputs": [
        {
          "output_type": "execute_result",
          "data": {
            "text/html": [
              "<div>\n",
              "<style scoped>\n",
              "    .dataframe tbody tr th:only-of-type {\n",
              "        vertical-align: middle;\n",
              "    }\n",
              "\n",
              "    .dataframe tbody tr th {\n",
              "        vertical-align: top;\n",
              "    }\n",
              "\n",
              "    .dataframe thead th {\n",
              "        text-align: right;\n",
              "    }\n",
              "</style>\n",
              "<table border=\"1\" class=\"dataframe\">\n",
              "  <thead>\n",
              "    <tr style=\"text-align: right;\">\n",
              "      <th></th>\n",
              "      <th>close</th>\n",
              "      <th>14 period RSI</th>\n",
              "      <th>MACD</th>\n",
              "      <th>SIGNAL</th>\n",
              "      <th>14 period STOCH %K</th>\n",
              "      <th>MFV</th>\n",
              "      <th>14 period ATR</th>\n",
              "      <th>MOM</th>\n",
              "      <th>14 period MFI</th>\n",
              "      <th>ROC</th>\n",
              "      <th>OBV</th>\n",
              "      <th>20 period CCI</th>\n",
              "      <th>14 period EMV</th>\n",
              "      <th>VIm</th>\n",
              "      <th>VIp</th>\n",
              "      <th>ema50</th>\n",
              "      <th>ema21</th>\n",
              "      <th>ema15</th>\n",
              "      <th>ema5</th>\n",
              "      <th>normVol</th>\n",
              "    </tr>\n",
              "  </thead>\n",
              "  <tbody>\n",
              "    <tr>\n",
              "      <th>1985</th>\n",
              "      <td>9204.162262</td>\n",
              "      <td>29.760407</td>\n",
              "      <td>-133.248114</td>\n",
              "      <td>-102.371571</td>\n",
              "      <td>20.984613</td>\n",
              "      <td>7.772411e+09</td>\n",
              "      <td>105.690419</td>\n",
              "      <td>-374.093786</td>\n",
              "      <td>19.717515</td>\n",
              "      <td>-3.897349</td>\n",
              "      <td>-6.289834e+09</td>\n",
              "      <td>-93.652455</td>\n",
              "      <td>-20.078668</td>\n",
              "      <td>1.271955</td>\n",
              "      <td>0.598556</td>\n",
              "      <td>0.948236</td>\n",
              "      <td>0.966124</td>\n",
              "      <td>0.972736</td>\n",
              "      <td>0.990091</td>\n",
              "      <td>0.912710</td>\n",
              "    </tr>\n",
              "    <tr>\n",
              "      <th>1986</th>\n",
              "      <td>9198.148393</td>\n",
              "      <td>29.468263</td>\n",
              "      <td>-132.288423</td>\n",
              "      <td>-108.354941</td>\n",
              "      <td>20.844765</td>\n",
              "      <td>7.767497e+09</td>\n",
              "      <td>105.870137</td>\n",
              "      <td>-303.630969</td>\n",
              "      <td>27.476734</td>\n",
              "      <td>-3.848305</td>\n",
              "      <td>-6.473989e+09</td>\n",
              "      <td>-78.304605</td>\n",
              "      <td>-14.696220</td>\n",
              "      <td>1.173874</td>\n",
              "      <td>0.683051</td>\n",
              "      <td>0.948591</td>\n",
              "      <td>0.967009</td>\n",
              "      <td>0.973912</td>\n",
              "      <td>0.991188</td>\n",
              "      <td>1.089584</td>\n",
              "    </tr>\n",
              "    <tr>\n",
              "      <th>1987</th>\n",
              "      <td>9274.037192</td>\n",
              "      <td>37.769936</td>\n",
              "      <td>-123.975162</td>\n",
              "      <td>-111.478985</td>\n",
              "      <td>35.995490</td>\n",
              "      <td>7.864921e+09</td>\n",
              "      <td>112.701692</td>\n",
              "      <td>-95.721034</td>\n",
              "      <td>34.728214</td>\n",
              "      <td>-3.176140</td>\n",
              "      <td>-6.296850e+09</td>\n",
              "      <td>-58.020109</td>\n",
              "      <td>-12.325600</td>\n",
              "      <td>1.116615</td>\n",
              "      <td>0.714120</td>\n",
              "      <td>0.957235</td>\n",
              "      <td>0.976097</td>\n",
              "      <td>0.983131</td>\n",
              "      <td>0.999471</td>\n",
              "      <td>1.039741</td>\n",
              "    </tr>\n",
              "    <tr>\n",
              "      <th>1988</th>\n",
              "      <td>9208.642314</td>\n",
              "      <td>34.050668</td>\n",
              "      <td>-121.265785</td>\n",
              "      <td>-113.436345</td>\n",
              "      <td>23.205062</td>\n",
              "      <td>7.837793e+09</td>\n",
              "      <td>115.822127</td>\n",
              "      <td>-132.412811</td>\n",
              "      <td>34.661317</td>\n",
              "      <td>-3.085075</td>\n",
              "      <td>-6.477312e+09</td>\n",
              "      <td>-62.417762</td>\n",
              "      <td>-11.336009</td>\n",
              "      <td>1.112655</td>\n",
              "      <td>0.754682</td>\n",
              "      <td>0.951409</td>\n",
              "      <td>0.970572</td>\n",
              "      <td>0.977750</td>\n",
              "      <td>0.993679</td>\n",
              "      <td>1.048890</td>\n",
              "    </tr>\n",
              "    <tr>\n",
              "      <th>1989</th>\n",
              "      <td>9204.168658</td>\n",
              "      <td>33.805423</td>\n",
              "      <td>-118.117981</td>\n",
              "      <td>-114.372672</td>\n",
              "      <td>23.093704</td>\n",
              "      <td>7.782903e+09</td>\n",
              "      <td>115.501473</td>\n",
              "      <td>-71.714161</td>\n",
              "      <td>28.185163</td>\n",
              "      <td>-1.767277</td>\n",
              "      <td>-6.623085e+09</td>\n",
              "      <td>-58.420341</td>\n",
              "      <td>-11.839253</td>\n",
              "      <td>1.134785</td>\n",
              "      <td>0.761976</td>\n",
              "      <td>0.951862</td>\n",
              "      <td>0.971421</td>\n",
              "      <td>0.978758</td>\n",
              "      <td>0.994323</td>\n",
              "      <td>0.869404</td>\n",
              "    </tr>\n",
              "  </tbody>\n",
              "</table>\n",
              "</div>"
            ],
            "text/plain": [
              "            close  14 period RSI        MACD  ...     ema15      ema5   normVol\n",
              "1985  9204.162262      29.760407 -133.248114  ...  0.972736  0.990091  0.912710\n",
              "1986  9198.148393      29.468263 -132.288423  ...  0.973912  0.991188  1.089584\n",
              "1987  9274.037192      37.769936 -123.975162  ...  0.983131  0.999471  1.039741\n",
              "1988  9208.642314      34.050668 -121.265785  ...  0.977750  0.993679  1.048890\n",
              "1989  9204.168658      33.805423 -118.117981  ...  0.978758  0.994323  0.869404\n",
              "\n",
              "[5 rows x 20 columns]"
            ]
          },
          "metadata": {},
          "execution_count": 17
        }
      ]
    },
    {
      "cell_type": "code",
      "metadata": {
        "id": "ekXjyCy0dOIq"
      },
      "source": [
        ""
      ],
      "execution_count": null,
      "outputs": []
    },
    {
      "cell_type": "code",
      "metadata": {
        "id": "vJj8r4HtdW8S"
      },
      "source": [
        ""
      ],
      "execution_count": null,
      "outputs": []
    }
  ]
}